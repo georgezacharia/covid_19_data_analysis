{
 "cells": [
  {
   "cell_type": "markdown",
   "id": "5ec40b55-0f77-451d-bf9f-95757827b22e",
   "metadata": {},
   "source": [
    "# COVID-19 Dataset Analysis"
   ]
  },
  {
   "cell_type": "markdown",
   "id": "0315ce48-8d75-48de-bb5f-021ff597c88a",
   "metadata": {},
   "source": [
    "## Introduction\n",
    "This notebook presents an analysis of COVID-19 data, focusing on the trends of confirmed cases, deaths, and recoveries across different states and regions. The analysis aims to provide insights into the pandemic's impact over time."
   ]
  },
  {
   "cell_type": "markdown",
   "id": "bbc4ff50-b1a9-4942-892c-7268310de426",
   "metadata": {},
   "source": [
    "## Import Libraries\n",
    "We will start by importing the necessary libraries for our analysis."
   ]
  },
  {
   "cell_type": "code",
   "execution_count": 32,
   "id": "8ea42e0a-7f62-4050-b77d-9116413d249b",
   "metadata": {},
   "outputs": [],
   "source": [
    "import pandas as pd\n"
   ]
  },
  {
   "cell_type": "code",
   "execution_count": 10,
   "id": "b619ba48-a3a4-4328-8978-94995970e869",
   "metadata": {},
   "outputs": [],
   "source": [
    "import matplotlib.pyplot as plt"
   ]
  },
  {
   "cell_type": "code",
   "execution_count": 12,
   "id": "cda4da02-07d4-48ff-9c9b-4015abd5956d",
   "metadata": {},
   "outputs": [],
   "source": [
    "import seaborn as sns "
   ]
  },
  {
   "cell_type": "markdown",
   "id": "a4b930bb-97d3-476a-a019-096cf85d3ad6",
   "metadata": {},
   "source": [
    "## Load the Dataset\n",
    "Next, we will load the COVID-19 dataset. "
   ]
  },
  {
   "cell_type": "code",
   "execution_count": 15,
   "id": "a05fe902-f265-4fd9-9894-7aee5543da5b",
   "metadata": {},
   "outputs": [],
   "source": [
    "data = pd.read_csv(r\"C:\\Users\\LENOVO\\Desktop\\Python Data Analysis\\Covid_19_data.csv\")"
   ]
  },
  {
   "cell_type": "markdown",
   "id": "c841579a-3b50-41e7-939c-e5d657f5dfb2",
   "metadata": {},
   "source": [
    "### Display the first few rows of the dataset"
   ]
  },
  {
   "cell_type": "code",
   "execution_count": 17,
   "id": "b1fa473c-90a2-4663-bbd9-ecf974d8aab5",
   "metadata": {},
   "outputs": [
    {
     "data": {
      "text/html": [
       "<div>\n",
       "<style scoped>\n",
       "    .dataframe tbody tr th:only-of-type {\n",
       "        vertical-align: middle;\n",
       "    }\n",
       "\n",
       "    .dataframe tbody tr th {\n",
       "        vertical-align: top;\n",
       "    }\n",
       "\n",
       "    .dataframe thead th {\n",
       "        text-align: right;\n",
       "    }\n",
       "</style>\n",
       "<table border=\"1\" class=\"dataframe\">\n",
       "  <thead>\n",
       "    <tr style=\"text-align: right;\">\n",
       "      <th></th>\n",
       "      <th>Date</th>\n",
       "      <th>State</th>\n",
       "      <th>Region</th>\n",
       "      <th>Confirmed</th>\n",
       "      <th>Deaths</th>\n",
       "      <th>Recovered</th>\n",
       "    </tr>\n",
       "  </thead>\n",
       "  <tbody>\n",
       "    <tr>\n",
       "      <th>0</th>\n",
       "      <td>4/29/2020</td>\n",
       "      <td>NaN</td>\n",
       "      <td>Afghanistan</td>\n",
       "      <td>1939</td>\n",
       "      <td>60</td>\n",
       "      <td>252</td>\n",
       "    </tr>\n",
       "    <tr>\n",
       "      <th>1</th>\n",
       "      <td>4/29/2020</td>\n",
       "      <td>NaN</td>\n",
       "      <td>Albania</td>\n",
       "      <td>766</td>\n",
       "      <td>30</td>\n",
       "      <td>455</td>\n",
       "    </tr>\n",
       "    <tr>\n",
       "      <th>2</th>\n",
       "      <td>4/29/2020</td>\n",
       "      <td>NaN</td>\n",
       "      <td>Algeria</td>\n",
       "      <td>3848</td>\n",
       "      <td>444</td>\n",
       "      <td>1702</td>\n",
       "    </tr>\n",
       "    <tr>\n",
       "      <th>3</th>\n",
       "      <td>4/29/2020</td>\n",
       "      <td>NaN</td>\n",
       "      <td>Andorra</td>\n",
       "      <td>743</td>\n",
       "      <td>42</td>\n",
       "      <td>423</td>\n",
       "    </tr>\n",
       "    <tr>\n",
       "      <th>4</th>\n",
       "      <td>4/29/2020</td>\n",
       "      <td>NaN</td>\n",
       "      <td>Angola</td>\n",
       "      <td>27</td>\n",
       "      <td>2</td>\n",
       "      <td>7</td>\n",
       "    </tr>\n",
       "  </tbody>\n",
       "</table>\n",
       "</div>"
      ],
      "text/plain": [
       "        Date State       Region  Confirmed  Deaths  Recovered\n",
       "0  4/29/2020   NaN  Afghanistan       1939      60        252\n",
       "1  4/29/2020   NaN      Albania        766      30        455\n",
       "2  4/29/2020   NaN      Algeria       3848     444       1702\n",
       "3  4/29/2020   NaN      Andorra        743      42        423\n",
       "4  4/29/2020   NaN       Angola         27       2          7"
      ]
     },
     "execution_count": 17,
     "metadata": {},
     "output_type": "execute_result"
    }
   ],
   "source": [
    "data.head()"
   ]
  },
  {
   "cell_type": "markdown",
   "id": "d912348c-66fa-4f96-9bb1-6ae0598cdf60",
   "metadata": {},
   "source": [
    "### Get basic information about the dataset"
   ]
  },
  {
   "cell_type": "code",
   "execution_count": 19,
   "id": "0e6d5d98-077e-41be-92b5-e98c794859c7",
   "metadata": {},
   "outputs": [
    {
     "name": "stdout",
     "output_type": "stream",
     "text": [
      "<class 'pandas.core.frame.DataFrame'>\n",
      "RangeIndex: 321 entries, 0 to 320\n",
      "Data columns (total 6 columns):\n",
      " #   Column     Non-Null Count  Dtype \n",
      "---  ------     --------------  ----- \n",
      " 0   Date       321 non-null    object\n",
      " 1   State      140 non-null    object\n",
      " 2   Region     321 non-null    object\n",
      " 3   Confirmed  321 non-null    int64 \n",
      " 4   Deaths     321 non-null    int64 \n",
      " 5   Recovered  321 non-null    int64 \n",
      "dtypes: int64(3), object(3)\n",
      "memory usage: 15.2+ KB\n"
     ]
    }
   ],
   "source": [
    "data.info()"
   ]
  },
  {
   "cell_type": "markdown",
   "id": "80272e1c-a8a7-47ad-9902-145a5e532a87",
   "metadata": {},
   "source": [
    "### Check for missing values"
   ]
  },
  {
   "cell_type": "code",
   "execution_count": 26,
   "id": "dae30484-7c39-422d-881e-8afc9acb8094",
   "metadata": {},
   "outputs": [],
   "source": [
    "missing_values = data.isnull().sum()"
   ]
  },
  {
   "cell_type": "code",
   "execution_count": 28,
   "id": "28aa9c2f-7a2d-405b-8d21-a1d38427c645",
   "metadata": {},
   "outputs": [
    {
     "name": "stdout",
     "output_type": "stream",
     "text": [
      "Date           0\n",
      "State        181\n",
      "Region         0\n",
      "Confirmed      0\n",
      "Deaths         0\n",
      "Recovered      0\n",
      "dtype: int64\n"
     ]
    }
   ],
   "source": [
    "print(missing_values)"
   ]
  },
  {
   "cell_type": "markdown",
   "id": "7a2414a9-2dd1-42ad-8440-a48266c7f948",
   "metadata": {},
   "source": [
    "### Summary statistics"
   ]
  },
  {
   "cell_type": "code",
   "execution_count": 164,
   "id": "d6e5c721-e834-44ad-9b48-5abecb3917f3",
   "metadata": {},
   "outputs": [
    {
     "name": "stdout",
     "output_type": "stream",
     "text": [
      "                      Date      Confirmed        Deaths      Recovered\n",
      "count                  321     321.000000    321.000000     321.000000\n",
      "mean   2020-04-29 00:00:00    9949.800623    709.152648    3030.277259\n",
      "min    2020-04-29 00:00:00       0.000000      0.000000       0.000000\n",
      "25%    2020-04-29 00:00:00     104.000000      2.000000       2.000000\n",
      "50%    2020-04-29 00:00:00     653.000000     12.000000      73.000000\n",
      "75%    2020-04-29 00:00:00    4655.000000    144.000000     587.000000\n",
      "max    2020-04-29 00:00:00  299691.000000  27682.000000  132929.000000\n",
      "std                    NaN   31923.853086   3236.162817   14364.870365\n"
     ]
    }
   ],
   "source": [
    "print(data.describe())"
   ]
  },
  {
   "cell_type": "markdown",
   "id": "fa993847-7f27-4c2e-8aa6-b3d67628d82e",
   "metadata": {},
   "source": [
    "### Converting Data types"
   ]
  },
  {
   "cell_type": "markdown",
   "id": "7d98d295-795d-4704-a1c8-9e91737d2200",
   "metadata": {},
   "source": [
    "####  Convert 'Date' column to datetime format"
   ]
  },
  {
   "cell_type": "code",
   "execution_count": 60,
   "id": "da14db6f-a1aa-4702-88c1-a3123916a677",
   "metadata": {},
   "outputs": [],
   "source": [
    "data['Date'] = pd.to_datetime(data['Date'])"
   ]
  },
  {
   "cell_type": "markdown",
   "id": "c2a47886-6abf-4962-bed7-f6a7fa33f0b2",
   "metadata": {},
   "source": [
    "## Data Analysis"
   ]
  },
  {
   "cell_type": "markdown",
   "id": "cd61fad5-73b9-461c-845a-b07bd82c2320",
   "metadata": {},
   "source": [
    "#### Confirmed cases Analysis"
   ]
  },
  {
   "cell_type": "markdown",
   "id": "b7570d63-319f-4a52-bc81-19432829c2a5",
   "metadata": {},
   "source": [
    "#### Total confirmed cases"
   ]
  },
  {
   "cell_type": "code",
   "execution_count": 70,
   "id": "78cdd0cf-7b30-4ac7-8eab-eed4a23e5149",
   "metadata": {},
   "outputs": [],
   "source": [
    "total_confirmed = data['Confirmed'].sum()"
   ]
  },
  {
   "cell_type": "code",
   "execution_count": 96,
   "id": "3a54b570-e3de-4bf5-8b23-58da3420bbd1",
   "metadata": {},
   "outputs": [
    {
     "name": "stdout",
     "output_type": "stream",
     "text": [
      "Total Confirmed Cases: 3193886\n"
     ]
    }
   ],
   "source": [
    "print(f'Total Confirmed Cases: {total_confirmed}')\n"
   ]
  },
  {
   "cell_type": "markdown",
   "id": "c243ccd5-cf73-4410-aa18-fec9316c7ef9",
   "metadata": {},
   "source": [
    "#### Daily confirmed cases"
   ]
  },
  {
   "cell_type": "code",
   "execution_count": 79,
   "id": "e1959678-6811-4066-8f0b-404a48d9732e",
   "metadata": {},
   "outputs": [],
   "source": [
    "daily_confirmed = data.groupby('Date')['Confirmed'].sum().reset_index()"
   ]
  },
  {
   "cell_type": "code",
   "execution_count": 81,
   "id": "6c7c1083-eb57-4546-bcb0-27dec0cb5b63",
   "metadata": {},
   "outputs": [
    {
     "name": "stdout",
     "output_type": "stream",
     "text": [
      "        Date  Confirmed\n",
      "0 2020-04-29    3193886\n"
     ]
    }
   ],
   "source": [
    "print(daily_confirmed)"
   ]
  },
  {
   "cell_type": "markdown",
   "id": "49b89617-bdf8-4566-89b6-5eb6daeacae3",
   "metadata": {},
   "source": [
    "#### Death Analysis"
   ]
  },
  {
   "cell_type": "markdown",
   "id": "5f1403d2-5570-4958-bc57-67466f080baf",
   "metadata": {},
   "source": [
    "#### Total deaths"
   ]
  },
  {
   "cell_type": "code",
   "execution_count": 90,
   "id": "efde5b75-2b9c-47b6-8d9e-62333a836623",
   "metadata": {},
   "outputs": [],
   "source": [
    "total_deaths = data['Deaths'].sum()"
   ]
  },
  {
   "cell_type": "code",
   "execution_count": 94,
   "id": "5815fd23-5e26-44b7-889d-fa6c1b8b4b9b",
   "metadata": {},
   "outputs": [
    {
     "name": "stdout",
     "output_type": "stream",
     "text": [
      "Total Deaths: 227638\n"
     ]
    }
   ],
   "source": [
    "print(f'Total Deaths: {total_deaths}')"
   ]
  },
  {
   "cell_type": "markdown",
   "id": "651ba4e7-8732-4dbb-8843-c2950731813c",
   "metadata": {},
   "source": [
    "#### Daily deaths"
   ]
  },
  {
   "cell_type": "code",
   "execution_count": 101,
   "id": "5f830f5d-1df3-44da-af05-a00e1f247537",
   "metadata": {},
   "outputs": [],
   "source": [
    "daily_deaths = data.groupby('Date')['Deaths'].sum().reset_index()\n"
   ]
  },
  {
   "cell_type": "code",
   "execution_count": 103,
   "id": "7fb98640-83c8-4c6e-bbad-695fd5a5f664",
   "metadata": {},
   "outputs": [
    {
     "name": "stdout",
     "output_type": "stream",
     "text": [
      "        Date  Deaths\n",
      "0 2020-04-29  227638\n"
     ]
    }
   ],
   "source": [
    "print(daily_deaths)"
   ]
  },
  {
   "cell_type": "markdown",
   "id": "35008078-90bf-4db5-acd0-82274eea9728",
   "metadata": {},
   "source": [
    "### Recovered Cases Analysis"
   ]
  },
  {
   "cell_type": "markdown",
   "id": "d2f1b878-5492-4c05-86e9-d9265f84949c",
   "metadata": {},
   "source": [
    "#### Total recovered cases"
   ]
  },
  {
   "cell_type": "code",
   "execution_count": 111,
   "id": "9c6d9689-4f8d-4e6c-884c-029a6be7ca48",
   "metadata": {},
   "outputs": [],
   "source": [
    "total_recovered = data['Recovered'].sum()"
   ]
  },
  {
   "cell_type": "code",
   "execution_count": 113,
   "id": "d3522446-90fb-42da-8f15-f15ec4da21ff",
   "metadata": {},
   "outputs": [
    {
     "name": "stdout",
     "output_type": "stream",
     "text": [
      "Total Recovered Cases: 972719\n"
     ]
    }
   ],
   "source": [
    "print(f'Total Recovered Cases: {total_recovered}')"
   ]
  },
  {
   "cell_type": "markdown",
   "id": "b4b145b0-c661-4294-9ce3-7bc84422a085",
   "metadata": {},
   "source": [
    "#### Daily recovered cases"
   ]
  },
  {
   "cell_type": "code",
   "execution_count": 120,
   "id": "b3a73049-6ffc-40c9-8945-75b1c05707e0",
   "metadata": {},
   "outputs": [],
   "source": [
    "daily_recovered = data.groupby('Date')['Recovered'].sum().reset_index()"
   ]
  },
  {
   "cell_type": "code",
   "execution_count": 122,
   "id": "f3af29cd-a6ef-4af3-892a-13c716151f24",
   "metadata": {},
   "outputs": [
    {
     "name": "stdout",
     "output_type": "stream",
     "text": [
      "        Date  Recovered\n",
      "0 2020-04-29     972719\n"
     ]
    }
   ],
   "source": [
    "print(daily_recovered)"
   ]
  },
  {
   "cell_type": "markdown",
   "id": "2bba9fde-dce7-42b9-8f1b-96f8f9c642be",
   "metadata": {},
   "source": [
    "### Comparative Analysis"
   ]
  },
  {
   "cell_type": "markdown",
   "id": "d9890bee-27ff-4794-92b5-636d43476b05",
   "metadata": {},
   "source": [
    "#### Comparison of Confirmed, Deaths, and Recovered"
   ]
  },
  {
   "cell_type": "markdown",
   "id": "b66e6089-e1c9-4639-a126-66ff1305a069",
   "metadata": {},
   "source": [
    "#### Total counts"
   ]
  },
  {
   "cell_type": "code",
   "execution_count": 129,
   "id": "f03c90e5-0e84-4d69-9fb8-463fa3a64621",
   "metadata": {},
   "outputs": [],
   "source": [
    "total_counts = pd.DataFrame({\n",
    "    'Total Confirmed': [total_confirmed],\n",
    "    'Total Deaths': [total_deaths],\n",
    "    'Total Recovered': [total_recovered]\n",
    "})\n"
   ]
  },
  {
   "cell_type": "code",
   "execution_count": 131,
   "id": "aaa3b88b-94d9-4d5b-8978-7fc8b9230417",
   "metadata": {},
   "outputs": [
    {
     "name": "stdout",
     "output_type": "stream",
     "text": [
      "   Total Confirmed  Total Deaths  Total Recovered\n",
      "0          3193886        227638           972719\n"
     ]
    }
   ],
   "source": [
    "print(total_counts)"
   ]
  },
  {
   "cell_type": "markdown",
   "id": "6f359c43-d9de-4313-9ad7-13210c238225",
   "metadata": {},
   "source": [
    "#### Bar plot for total counts"
   ]
  },
  {
   "cell_type": "code",
   "execution_count": 158,
   "id": "14ea2ae6-9013-4f65-b656-c94123aaa343",
   "metadata": {},
   "outputs": [
    {
     "data": {
      "image/png": "[encoded data removed]",
      "text/plain": [
       "<Figure size 800x500 with 1 Axes>"
      ]
     },
     "metadata": {},
     "output_type": "display_data"
    }
   ],
   "source": [
    "total_counts.plot(kind='bar', figsize=(8, 5))\n",
    "plt.title('Total COVID-19 Cases: Confirmed, Deaths, and Recovered')\n",
    "plt.ylabel('Count')\n",
    "plt.xticks(rotation=0)\n",
    "plt.tight_layout()\n",
    "plt.show()"
   ]
  },
  {
   "cell_type": "markdown",
   "id": "3903f295-38cc-4c80-8c5a-086d7c918437",
   "metadata": {},
   "source": [
    "#### Recovery Rate and Mortality Rate"
   ]
  },
  {
   "cell_type": "markdown",
   "id": "604fe774-e87b-4f5b-a351-3b2be51b2fff",
   "metadata": {},
   "source": [
    "#### Calculate recovery rate and mortality rate"
   ]
  },
  {
   "cell_type": "code",
   "execution_count": 145,
   "id": "0abaf5a8-12b2-4584-9b39-78736a210e6e",
   "metadata": {},
   "outputs": [],
   "source": [
    "recovery_rate = (total_recovered / total_confirmed) * 100"
   ]
  },
  {
   "cell_type": "code",
   "execution_count": 147,
   "id": "705aa102-de22-44ec-a5d7-8c429c18c808",
   "metadata": {},
   "outputs": [],
   "source": [
    "mortality_rate = (total_deaths / total_confirmed) * 100"
   ]
  },
  {
   "cell_type": "code",
   "execution_count": 149,
   "id": "89165897-3b9c-4bbb-bb77-e42991cf21b9",
   "metadata": {},
   "outputs": [
    {
     "name": "stdout",
     "output_type": "stream",
     "text": [
      "Recovery Rate: 30.46%\n"
     ]
    }
   ],
   "source": [
    "print(f'Recovery Rate: {recovery_rate:.2f}%')"
   ]
  },
  {
   "cell_type": "code",
   "execution_count": 151,
   "id": "1b7d368c-5040-4d12-bcc2-12307ce5099e",
   "metadata": {},
   "outputs": [
    {
     "name": "stdout",
     "output_type": "stream",
     "text": [
      "Mortality Rate: 7.13%\n"
     ]
    }
   ],
   "source": [
    "print(f'Mortality Rate: {mortality_rate:.2f}%')"
   ]
  },
  {
   "cell_type": "markdown",
   "id": "4f69daae-7762-45dd-86d6-f4c62ee1dd2e",
   "metadata": {},
   "source": [
    "### Conclusion"
   ]
  },
  {
   "cell_type": "markdown",
   "id": "1c5f1963-f907-428e-9f94-ff845b10213c",
   "metadata": {},
   "source": [
    "#### Summarize findings"
   ]
  },
  {
   "cell_type": "code",
   "execution_count": 161,
   "id": "c8f32703-c0f0-41f5-b8c0-d8421f1aa75e",
   "metadata": {},
   "outputs": [
    {
     "name": "stdout",
     "output_type": "stream",
     "text": [
      "In conclusion:\n",
      "Total Confirmed Cases: 3193886\n",
      "Total Deaths: 227638\n",
      "Total Recovered Cases: 972719\n",
      "Recovery Rate: 30.46%\n",
      "Mortality Rate: 7.13%\n"
     ]
    }
   ],
   "source": [
    "print(\"In conclusion:\")\n",
    "print(f\"Total Confirmed Cases: {total_confirmed}\")\n",
    "print(f\"Total Deaths: {total_deaths}\")\n",
    "print(f\"Total Recovered Cases: {total_recovered}\")\n",
    "print(f\"Recovery Rate: {recovery_rate:.2f}%\")\n",
    "print(f\"Mortality Rate: {mortality_rate:.2f}%\")\n"
   ]
  },
  {
   "cell_type": "code",
   "execution_count": null,
   "id": "261c0d40-b170-4f6c-9c65-3e89aea07346",
   "metadata": {},
   "outputs": [],
   "source": []
  }
 ],
 "metadata": {
  "kernelspec": {
   "display_name": "Python 3 (ipykernel)",
   "language": "python",
   "name": "python3"
  },
  "language_info": {
   "codemirror_mode": {
    "name": "ipython",
    "version": 3
   },
   "file_extension": ".py",
   "mimetype": "text/x-python",
   "name": "python",
   "nbconvert_exporter": "python",
   "pygments_lexer": "ipython3",
   "version": "3.12.4"
  }
 },
 "nbformat": 4,
 "nbformat_minor": 5
}
